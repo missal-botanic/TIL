{
 "cells": [
  {
   "cell_type": "code",
   "execution_count": 6,
   "id": "80f9a27d-ce03-4ebc-b69b-d8b2b0a54013",
   "metadata": {},
   "outputs": [
    {
     "name": "stdout",
     "output_type": "stream",
     "text": [
      "(5, 1024)\n"
     ]
    }
   ],
   "source": [
    "from sentence_transformers import SentenceTransformer\n",
    "import numpy as np\n",
    "\n",
    "# Multilingual-E5-large-instruct 모델 로드\n",
    "model = SentenceTransformer('intfloat/multilingual-e5-large')\n",
    "model.save('./multilingual-e5-large')\n",
    "# 문장 리스트\n",
    "sentences = [\n",
    "    \"참새는 짹짹하고 웁니다.\",\n",
    "    \"LangChain과 Faiss를 활용한 예시입니다.\",\n",
    "    \"자연어 처리를 위한 임베딩 모델 사용법을 배워봅시다.\",\n",
    "    \"유사한 문장을 검색하는 방법을 살펴보겠습니다.\",\n",
    "    \"강좌를 수강하시는 수강생 여러분 감사합니다!\"\n",
    "]\n",
    "\n",
    "# 문장들을 임베딩으로 변환\n",
    "embeddings = model.encode(sentences)\n",
    "\n",
    "# 임베딩 벡터 출력\n",
    "print(embeddings.shape)  # (4, 1024) - 4개의 문장이 1024 차원의 벡터로 변환됨"
   ]
  },
  {
   "cell_type": "code",
   "execution_count": 5,
   "id": "b4af0849-900d-47b1-a991-c63deab33207",
   "metadata": {},
   "outputs": [
    {
     "name": "stdout",
     "output_type": "stream",
     "text": [
      "[ 0.03305346  0.00946581 -0.0001538  ... -0.02273229  0.00190384\n",
      "  0.01841401]\n"
     ]
    }
   ],
   "source": [
    "print(embeddings[0]) "
   ]
  },
  {
   "cell_type": "code",
   "execution_count": null,
   "id": "e293f24a-9e86-4a54-a3e3-1ee665534388",
   "metadata": {},
   "outputs": [],
   "source": [
    "\n",
    "from sentence_transformers import SentenceTransformer\n",
    " \n",
    "model = SentenceTransformer('sentence-transformers/paraphrase-multilingual-MiniLM-L12-v2')\n",
    "model.save('./tokenizer_multilingual')\n",
    "Colored"
   ]
  }
 ],
 "metadata": {
  "kernelspec": {
   "display_name": "Deep",
   "language": "python",
   "name": "pdeep"
  },
  "language_info": {
   "codemirror_mode": {
    "name": "ipython",
    "version": 3
   },
   "file_extension": ".py",
   "mimetype": "text/x-python",
   "name": "python",
   "nbconvert_exporter": "python",
   "pygments_lexer": "ipython3",
   "version": "3.8.20"
  }
 },
 "nbformat": 4,
 "nbformat_minor": 5
}
