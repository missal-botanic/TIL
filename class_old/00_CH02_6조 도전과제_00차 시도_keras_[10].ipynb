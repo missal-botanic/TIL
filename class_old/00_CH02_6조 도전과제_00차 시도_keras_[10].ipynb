{
 "cells": [
  {
   "cell_type": "code",
   "execution_count": 1,
   "id": "45c8992f-690e-48b6-87ec-4c3c1644f98f",
   "metadata": {},
   "outputs": [],
   "source": [
    "import pandas as pd\n",
    "import re\n",
    "\n",
    "df = pd.read_csv(\"netflix_reviews.csv\")  # 파일 불러오기\n",
    "\n",
    "def preprocess_text(text):\n",
    "    if isinstance(text, float):\n",
    "        return \"\"\n",
    "    text = text.lower()  # 대문자를 소문자로\n",
    "    text = re.sub(r'[^\\w\\s]', '', text)  # 구두점 제거\n",
    "    text = re.sub(r'\\d+', '', text)  # 숫자 제거\n",
    "    text = text.strip()  # 띄어쓰기 제외하고 빈 칸 제거\n",
    "    return text\n",
    "\n",
    "df['content'] = df['content'].apply(preprocess_text)"
   ]
  },
  {
   "cell_type": "code",
   "execution_count": 2,
   "id": "e39c2312-d442-4ae7-b6f7-44b7dde4d71f",
   "metadata": {},
   "outputs": [
    {
     "data": {
      "image/png": "[encoded data removed]",
      "text/plain": [
       "<Figure size 640x480 with 1 Axes>"
      ]
     },
     "metadata": {},
     "output_type": "display_data"
    }
   ],
   "source": [
    "import seaborn as sns  # 그래프를 그리기 위한 seaborn 라이브러리 임포트 (없으면 설치 바랍니다)\n",
    "import matplotlib.pyplot as plt  # 그래프 표시를 위한 pyplot 임포트\n",
    "\n",
    "score_counts = df['score'].value_counts().reset_index()\n",
    "score_counts.columns = ['Score', 'Count']\n",
    "\n",
    "sns.barplot(x='Score', y='Count', data=score_counts)\n",
    "plt.xlabel('Score')\n",
    "plt.ylabel('Count')\n",
    "plt.title('Distribution of Scores')\n",
    "plt.show()"
   ]
  },
  {
   "cell_type": "code",
   "execution_count": 3,
   "id": "79277e79-55d5-453c-ab62-7aa2947d5107",
   "metadata": {},
   "outputs": [],
   "source": [
    "import pandas as pd\n",
    "import numpy as np\n",
    "from sklearn.model_selection import train_test_split as tts\n",
    "from sklearn.preprocessing import LabelEncoder\n",
    "from keras.models import Sequential\n",
    "from keras.layers import Dense, Dropout\n",
    "from keras.preprocessing.text import Tokenizer\n",
    "from keras.preprocessing.sequence import pad_sequences"
   ]
  },
  {
   "cell_type": "code",
   "execution_count": 4,
   "id": "77396212-6aa4-4582-ac63-97b6a441f2e8",
   "metadata": {},
   "outputs": [],
   "source": [
    "# Text preprocessing\n",
    "tokenizer = Tokenizer()\n",
    "tokenizer.fit_on_texts(df['content'])\n",
    "X = tokenizer.texts_to_sequences(df['content'])\n",
    "X = pad_sequences(X)"
   ]
  },
  {
   "cell_type": "code",
   "execution_count": 5,
   "id": "5a25fb6b-8f3e-4ab4-b935-a21bb8a9458c",
   "metadata": {},
   "outputs": [],
   "source": [
    "# Labels\n",
    "y = df['score'].values\n",
    "\n",
    "# Train-test split\n",
    "X_train, X_test, y_train, y_test = tts(X, y, test_size=0.2, random_state=42)\n",
    "\n",
    "# Model definition\n",
    "model = Sequential()\n",
    "model.add(Dense(64, activation=\"relu\", input_shape=(X_train.shape[1],)))\n",
    "model.add(Dropout(0.1))\n",
    "model.add(Dense(32, activation=\"relu\"))\n",
    "model.add(Dense(1, activation=\"linear\"))  # Use 'linear' for regression\n",
    "\n",
    "model.compile(loss=\"mean_squared_error\", optimizer=\"adam\", metrics=[\"mae\"])\n"
   ]
  },
  {
   "cell_type": "code",
   "execution_count": 13,
   "id": "60f0b1a8-ec91-4d17-8f88-3dd9be43018f",
   "metadata": {},
   "outputs": [
    {
     "name": "stdout",
     "output_type": "stream",
     "text": [
      "Epoch 1/10\n",
      "23427/23427 [==============================] - 45s 2ms/step - loss: 2.9177 - mae: 1.5835\n",
      "Epoch 2/10\n",
      "23427/23427 [==============================] - 46s 2ms/step - loss: 2.9114 - mae: 1.5832\n",
      "Epoch 3/10\n",
      "23427/23427 [==============================] - 46s 2ms/step - loss: 2.9104 - mae: 1.5832\n",
      "Epoch 4/10\n",
      "23427/23427 [==============================] - 46s 2ms/step - loss: 2.9105 - mae: 1.5831\n",
      "Epoch 5/10\n",
      "23427/23427 [==============================] - 46s 2ms/step - loss: 2.9249 - mae: 1.5837\n",
      "Epoch 6/10\n",
      "23427/23427 [==============================] - 47s 2ms/step - loss: 2.9105 - mae: 1.5831\n",
      "Epoch 7/10\n",
      "23427/23427 [==============================] - 47s 2ms/step - loss: 2.9106 - mae: 1.5832\n",
      "Epoch 8/10\n",
      "23427/23427 [==============================] - 46s 2ms/step - loss: 2.9114 - mae: 1.5833\n",
      "Epoch 9/10\n",
      "23427/23427 [==============================] - 45s 2ms/step - loss: 2.9106 - mae: 1.5832\n",
      "Epoch 10/10\n",
      "23427/23427 [==============================] - 47s 2ms/step - loss: 2.9105 - mae: 1.5832\n"
     ]
    },
    {
     "data": {
      "text/plain": [
       "<keras.src.callbacks.History at 0x28b7e82c760>"
      ]
     },
     "execution_count": 13,
     "metadata": {},
     "output_type": "execute_result"
    }
   ],
   "source": [
    "# Model training\n",
    "model.fit(X_train, y_train, epochs=10, batch_size=4, verbose=1)"
   ]
  },
  {
   "cell_type": "code",
   "execution_count": 14,
   "id": "579c7f7e-7e7f-4041-8c57-f99ef38a38cf",
   "metadata": {},
   "outputs": [
    {
     "name": "stdout",
     "output_type": "stream",
     "text": [
      "733/733 [==============================] - 1s 2ms/step\n",
      "Accuracy: 10.547658684423956%\n"
     ]
    }
   ],
   "source": [
    "# 평가\n",
    "correct = 0\n",
    "total = 0\n",
    "\n",
    "# 테스트 데이터로 예측\n",
    "y_pred = model.predict(X_test)\n",
    "\n",
    "# 예측값을 정수로 변환\n",
    "y_pred = np.round(y_pred).astype(int)\n",
    "\n",
    "# 정확도 계산\n",
    "total = len(y_test)\n",
    "correct = np.sum(y_pred.flatten() == y_test)\n",
    "\n",
    "accuracy = 100 * correct / total\n",
    "print(f'Accuracy: {accuracy}%')"
   ]
  },
  {
   "cell_type": "code",
   "execution_count": 16,
   "id": "d23ca511-229c-4b9d-9845-2a0bf0e08350",
   "metadata": {},
   "outputs": [
    {
     "name": "stdout",
     "output_type": "stream",
     "text": [
      "733/733 [==============================] - 1s 2ms/step - loss: 2.8915 - mae: 1.5767\n",
      "Loss: 2.891493797302246, Mean Absolute Error: 1.5767102241516113\n",
      "1/1 [==============================] - 0s 20ms/step\n",
      "Predicted Score: 2.80\n"
     ]
    }
   ],
   "source": [
    "\n",
    "# Model evaluation\n",
    "loss, mae = model.evaluate(X_test, y_test)\n",
    "print(f\"Loss: {loss}, Mean Absolute Error: {mae}\")\n",
    "\n",
    "# Example prediction\n",
    "new_review = \"This app is great .\"\n",
    "new_review_seq = tokenizer.texts_to_sequences([new_review])\n",
    "new_review_seq = pad_sequences(new_review_seq, maxlen=X.shape[1])  # Ensure same length\n",
    "predicted_score = model.predict(new_review_seq)\n",
    "print(f'Predicted Score: {predicted_score[0][0]:.2f}')"
   ]
  },
  {
   "cell_type": "code",
   "execution_count": null,
   "id": "023dfd13-1b6e-4772-89a9-4e1fd49969e7",
   "metadata": {},
   "outputs": [],
   "source": []
  }
 ],
 "metadata": {
  "kernelspec": {
   "display_name": "Deep",
   "language": "python",
   "name": "pdeep"
  },
  "language_info": {
   "codemirror_mode": {
    "name": "ipython",
    "version": 3
   },
   "file_extension": ".py",
   "mimetype": "text/x-python",
   "name": "python",
   "nbconvert_exporter": "python",
   "pygments_lexer": "ipython3",
   "version": "3.8.20"
  }
 },
 "nbformat": 4,
 "nbformat_minor": 5
}
