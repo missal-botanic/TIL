{
 "cells": [
  {
   "cell_type": "code",
   "execution_count": null,
   "metadata": {},
   "outputs": [],
   "source": [
    "import requests\n",
    "import json\n",
    "\n",
    "# 요청 URL\n",
    "url = \"http://127.0.0.1:8000/query\"\n",
    "\n",
    "# 요청에 보낼 데이터\n",
    "data = {\n",
    "    \"query\": \"한글로 인공지능에 대해 설명해줘\"\n",
    "}\n",
    "\n",
    "# POST 요청을 보내기 위한 헤더 설정\n",
    "headers = {\n",
    "    \"Content-Type\": \"application/json\"\n",
    "}\n",
    "\n",
    "# POST 요청 보내기\n",
    "response = requests.post(url, json=data, headers=headers)\n",
    "\n",
    "# 응답 출력\n",
    "if response.status_code == 200:\n",
    "    print(\"Response:\", response.json())\n",
    "else:\n",
    "    print(f\"Error: {response.status_code}, {response.text}\")"
   ]
  }
 ],
 "metadata": {
  "language_info": {
   "name": "python"
  }
 },
 "nbformat": 4,
 "nbformat_minor": 2
}
