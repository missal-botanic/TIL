{
 "cells": [
  {
   "cell_type": "code",
   "execution_count": 8,
   "id": "80f9a27d-ce03-4ebc-b69b-d8b2b0a54013",
   "metadata": {},
   "outputs": [
    {
     "name": "stdout",
     "output_type": "stream",
     "text": [
      "(1, 1024)\n"
     ]
    }
   ],
   "source": [
    "from sentence_transformers import SentenceTransformer\n",
    "import numpy as np\n",
    "\n",
    "# Multilingual-E5-large-instruct 모델 로드\n",
    "model = SentenceTransformer('intfloat/multilingual-e5-large')\n",
    "#model.save('./multilingual-e5-large')\n",
    "# 문장 리스트\n",
    "sentences = [\n",
    "    '''이 영화를 본 건 꽤 오래 전의 일이다. 극심한 통증과 그로 인한 세상과의 물리적 단절, 그 틈을 비집고 들어오는 온갖 종류의 폭력들 속에서 어떻게 살아가야 하는지를 몰라 쩔쩔매고 있었던 때였다. 아침마다 다시 눈뜨지 않기를 간절히 바라던 나날들 중 하루였다. 나와 같은 질병(류마티스 관절염)을 앓고 있는 여성들이 어떻게 살아냈는지, 또 살아가고 있는지 알고 싶었다. 모종의 극복 서사를 기대하고 영화를 선택했던 것 같다. 질병의 고통을 이겨낸 이가 존재한다는 것을 확인하고 싶었다. 아니, 확인해야 했다.\n",
    " \n",
    "영화 포스터 속 모드는 파스텔 톤의 아름다운 배경 속에서 에버릿과 함께 더할 나위 없이 행복한 웃음을 짓고 있었다. 영화를 ‘오해’하기엔 충분했다. 당시의 나는 간절히, 아주 간절히 행복하고 싶었다.\n",
    " \n",
    "그런데, 영화 〈내 사랑〉(원 제목 Maudie[모디], 에이슬링 월쉬 감독, 2016)은 역설적이게도 사랑에 관한 이야기가 아니었다. 너무 고통스러워서 영화를 한 번에 이어 보지 못했다. 영화 속 모드는 포스터 속 모드처럼 행복해 보이지도, 사랑받는 것 같지도 않았다. 그저 살아남기 위해 매 순간 필사적이었다. 영화가 ‘모드의 생존기’를 그리면서도 파스텔톤의 아름다운 사랑 이야기로 해석한 것에 나는 적지 않은 충격을 받았다. 나는 다시 한 번 현실로 내동댕이쳐진 기분이었다.\n",
    " \n",
    "주체성이 박탈된 ‘몸’\n",
    " \n",
    "주인공 모드는 선천적 장애와 진행형 질병을 가진 여성이다. 어릴 때부터 중증의 류마티스 관절염을 앓았던 모드는 신체 변형과 통증으로 누군가의 돌봄이 없이는 살아가기 힘들다. 정상의 범주에서 벗어나 있는 모드의 몸은 어디서도 환영받지 못한다. 생존을 위한 노동도 그녀에게 허락되지 않으므로 그녀는 자기 돌봄도 불가능하다. 돌봄은 가족들에게 오롯이 맡겨지고, 가족들에게 모드는 짐과 같은 존재가 된다. 부모님이 돌아가시자 오빠는 부모님의 유산을 멋대로 처분하고 모드는 숙모집에 맡겨버린다.\n",
    " \n",
    "“못 데리고 있겠다.”\n",
    " \n",
    "숙모가 모드의 오빠에게 건네는 이 말은 가족 내에서의 모드의 위치를 아주 잘 보여준다. 모드의 오빠도 “제 몸도 건사 못하는 애가”라는 말로 모드의 주체성을 차단해버린다. 사회가 질병과 장애를 가진 이들을 대하는 태도다. 그렇게 가족 안에서 모드는 그저 ‘돌봄을 당해야 하는 몸’으로 남겨진다. 모드가 자립을 위해 떠나던 그 순간에도 숙모는 “제 앞가림도 못하는 애가”라는 말로 모드를 주저앉히려 한다. 하지만 숙모에게 작별인사를 남긴 모드는 닫힌 문을 열어젖히고 그곳을 떠난다.'''\n",
    "\n",
    "]\n",
    "\n",
    "# 문장들을 임베딩으로 변환\n",
    "embeddings = model.encode(sentences)\n",
    "\n",
    "# 임베딩 벡터 출력\n",
    "print(embeddings.shape)  # (4, 1024) - 4개의 문장이 1024 차원의 벡터로 변환됨"
   ]
  },
  {
   "cell_type": "code",
   "execution_count": 5,
   "id": "b4af0849-900d-47b1-a991-c63deab33207",
   "metadata": {},
   "outputs": [
    {
     "name": "stdout",
     "output_type": "stream",
     "text": [
      "[ 0.03305346  0.00946581 -0.0001538  ... -0.02273229  0.00190384\n",
      "  0.01841401]\n"
     ]
    }
   ],
   "source": [
    "print(embeddings[0]) "
   ]
  },
  {
   "cell_type": "code",
   "execution_count": null,
   "id": "e293f24a-9e86-4a54-a3e3-1ee665534388",
   "metadata": {},
   "outputs": [],
   "source": [
    "\n",
    "from sentence_transformers import SentenceTransformer\n",
    " \n",
    "model = SentenceTransformer('sentence-transformers/paraphrase-multilingual-MiniLM-L12-v2')\n",
    "model.save('./tokenizer_multilingual')\n",
    "Colored"
   ]
  }
 ],
 "metadata": {
  "kernelspec": {
   "display_name": "Deep",
   "language": "python",
   "name": "pdeep"
  },
  "language_info": {
   "codemirror_mode": {
    "name": "ipython",
    "version": 3
   },
   "file_extension": ".py",
   "mimetype": "text/x-python",
   "name": "python",
   "nbconvert_exporter": "python",
   "pygments_lexer": "ipython3",
   "version": "3.8.20"
  }
 },
 "nbformat": 4,
 "nbformat_minor": 5
}
