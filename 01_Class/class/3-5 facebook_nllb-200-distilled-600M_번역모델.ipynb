{
 "cells": [
  {
   "cell_type": "code",
   "execution_count": 24,
   "id": "8eb0484f-7333-4cf6-97d0-6a05f1aa148f",
   "metadata": {},
   "outputs": [
    {
     "name": "stdout",
     "output_type": "stream",
     "text": [
      "Jesus did not say how long he stayed in Jerusalem. Now he was going to Jerusalem. On the street in front of the gate, the king of the people was sitting.\n"
     ]
    }
   ],
   "source": [
    "from transformers import AutoTokenizer, AutoModelForSeq2SeqLM\n",
    "\n",
    "model_name = \"facebook/nllb-200-distilled-600M\"\n",
    "tokenizer = AutoTokenizer.from_pretrained(model_name)\n",
    "model = AutoModelForSeq2SeqLM.from_pretrained(model_name)\n",
    "\n",
    "sentence = \"예수 일행이 여리고에서 얼마나 머물렀는지는 본문이 말하지 않습니다. 이제 예루살렘에 가려고 여리고 성을 나왔습니다. 성문 앞길에는 사람들의 왕래가 잦습니다.그곳에 ‘맹인 거지 바디매오’가 앉아 있었다고 합니다.  \"\n",
    "\n",
    "# 입력 텍스트 토큰화\n",
    "input = tokenizer(sentence, return_tensors=\"pt\")\n",
    "\n",
    "# 영어 -> 한글로 번역\n",
    "generated_tokens = model.generate(\n",
    "    input.input_ids,\n",
    "    forced_bos_token_id=tokenizer.convert_tokens_to_ids(\"eng_Latn\"),  # 한국어를 위한 BOS 토큰 ID 지정\n",
    "    max_length=300\n",
    ")\n",
    "\n",
    "# 생성된 토큰을 텍스트로 변환\n",
    "translated_text = tokenizer.decode(generated_tokens[0], skip_special_tokens=True)\n",
    "\n",
    "print(translated_text)\n"
   ]
  },
  {
   "cell_type": "code",
   "execution_count": null,
   "id": "924e0d3f-da8d-4de0-9125-9b5b38d7d5ef",
   "metadata": {},
   "outputs": [],
   "source": []
  },
  {
   "cell_type": "code",
   "execution_count": null,
   "id": "0b7cd852-f40d-435a-b7b4-e5dc4c07c536",
   "metadata": {},
   "outputs": [],
   "source": []
  }
 ],
 "metadata": {
  "kernelspec": {
   "display_name": "Deep",
   "language": "python",
   "name": "pdeep"
  },
  "language_info": {
   "codemirror_mode": {
    "name": "ipython",
    "version": 3
   },
   "file_extension": ".py",
   "mimetype": "text/x-python",
   "name": "python",
   "nbconvert_exporter": "python",
   "pygments_lexer": "ipython3",
   "version": "3.8.20"
  }
 },
 "nbformat": 4,
 "nbformat_minor": 5
}
