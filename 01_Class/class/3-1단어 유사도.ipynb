{
 "cells": [
  {
   "cell_type": "code",
   "execution_count": 7,
   "id": "42d9cf9a-f809-472e-ad7f-ac6288dd2678",
   "metadata": {},
   "outputs": [
    {
     "name": "stdout",
     "output_type": "stream",
     "text": [
      "C: 0.5153\n"
     ]
    }
   ],
   "source": [
    "from transformers import BertModel, BertTokenizer\n",
    "import torch\n",
    "from scipy.spatial.distance import cosine\n",
    "\n",
    "model_name = \"bert-base-uncased\"\n",
    "tokenizer = BertTokenizer.from_pretrained(model_name)\n",
    "model = BertModel.from_pretrained(model_name)\n",
    "\n",
    "sentences = [\n",
    "    \"The sun set behind the mountains, painting the sky in shades of orange and purple.\",\n",
    "    \"She opened the old book and discovered a hidden letter inside.\"\n",
    "]\n",
    "\n",
    "input1 = tokenizer(sentences[0], return_tensors='pt')\n",
    "input2 = tokenizer(sentences[1], return_tensors='pt')\n",
    "\n",
    "with torch.no_grad():\n",
    "    output1 = model(**input1)\n",
    "    output2 = model(**input2)\n",
    "\n",
    "embedding1 = output1.last_hidden_state.mean(dim=1).squeeze().cpu().numpy()\n",
    "embedding2 = output2.last_hidden_state.mean(dim=1).squeeze().cpu().numpy()\n",
    "\n",
    "similarity = 1 - cosine(embedding1, embedding2)\n",
    "\n",
    "print(f\"C: {similarity:.4f}\")"
   ]
  },
  {
   "cell_type": "code",
   "execution_count": null,
   "id": "4b5396d4-345b-40dd-acf2-f08898fe1120",
   "metadata": {},
   "outputs": [],
   "source": []
  }
 ],
 "metadata": {
  "kernelspec": {
   "display_name": "Deep",
   "language": "python",
   "name": "pdeep"
  },
  "language_info": {
   "codemirror_mode": {
    "name": "ipython",
    "version": 3
   },
   "file_extension": ".py",
   "mimetype": "text/x-python",
   "name": "python",
   "nbconvert_exporter": "python",
   "pygments_lexer": "ipython3",
   "version": "3.8.20"
  }
 },
 "nbformat": 4,
 "nbformat_minor": 5
}
