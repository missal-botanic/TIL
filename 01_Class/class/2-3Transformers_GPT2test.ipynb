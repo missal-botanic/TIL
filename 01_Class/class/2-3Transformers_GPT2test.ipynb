{
 "cells": [
  {
   "cell_type": "code",
   "execution_count": 27,
   "id": "ad639a44-bf02-4422-add1-25c8d40c7952",
   "metadata": {},
   "outputs": [
    {
     "data": {
      "text/plain": [
       "'mother mother mother, who was a member of the family of the late, great-grandmother, and who was a member of the family of the late, great-grandmother, and who was a member of the family of the late, great'"
      ]
     },
     "execution_count": 27,
     "metadata": {},
     "output_type": "execute_result"
    }
   ],
   "source": [
    "from transformers import GPT2Tokenizer, GPT2LMHeadModel\n",
    "tokenizer = GPT2Tokenizer.from_pretrained('gpt2')\n",
    "model = GPT2LMHeadModel.from_pretrained('gpt2')\n",
    "text = \"mother mother mother\"\n",
    "encoded_input = tokenizer(text, return_tensors = 'pt')\n",
    "output = model.generate(encoded_input['input_ids'], \n",
    "                        attention_mask=encoded_input['attention_mask'],\n",
    "                        pad_token_id=tokenizer.eos_token_id,\n",
    "                        max_length =50)\n",
    "\n",
    "generated_text = tokenizer.decode(output[0], skip_special_tokens = True)\n",
    "generated_text"
   ]
  }
 ],
 "metadata": {
  "kernelspec": {
   "display_name": "Deep",
   "language": "python",
   "name": "pdeep"
  },
  "language_info": {
   "codemirror_mode": {
    "name": "ipython",
    "version": 3
   },
   "file_extension": ".py",
   "mimetype": "text/x-python",
   "name": "python",
   "nbconvert_exporter": "python",
   "pygments_lexer": "ipython3",
   "version": "3.8.20"
  }
 },
 "nbformat": 4,
 "nbformat_minor": 5
}
