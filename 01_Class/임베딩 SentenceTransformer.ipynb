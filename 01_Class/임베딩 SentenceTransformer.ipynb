{
 "cells": [
  {
   "cell_type": "code",
   "execution_count": 9,
   "id": "80f9a27d-ce03-4ebc-b69b-d8b2b0a54013",
   "metadata": {},
   "outputs": [
    {
     "name": "stdout",
     "output_type": "stream",
     "text": [
      "(1, 1024)\n"
     ]
    }
   ],
   "source": [
    "from sentence_transformers import SentenceTransformer\n",
    "import numpy as np\n",
    "\n",
    "# Multilingual-E5-large-instruct 모델 로드\n",
    "model = SentenceTransformer('intfloat/multilingual-e5-large')\n",
    "#model.save('./multilingual-e5-large')\n",
    "# 문장 리스트\n",
    "sentences = [\n",
    "    '''이 영화를 본 건 꽤 오래로 을 당 열어젖히고 그곳을 떠난다.'''\n",
    "\n",
    "]\n",
    "\n",
    "# 문장들을 임베딩으로 변환\n",
    "embeddings = model.encode(sentences)\n",
    "\n",
    "# 임베딩 벡터 출력\n",
    "print(embeddings.shape)  # (4, 1024) - 4개의 문장이 1024 차원의 벡터로 변환됨"
   ]
  },
  {
   "cell_type": "code",
   "execution_count": 10,
   "id": "b4af0849-900d-47b1-a991-c63deab33207",
   "metadata": {},
   "outputs": [
    {
     "name": "stdout",
     "output_type": "stream",
     "text": [
      "[ 0.01460663 -0.01934509 -0.02704749 ...  0.00187356 -0.0255515\n",
      "  0.02680624]\n"
     ]
    }
   ],
   "source": [
    "print(embeddings[0]) "
   ]
  },
  {
   "cell_type": "code",
   "execution_count": null,
   "id": "e293f24a-9e86-4a54-a3e3-1ee665534388",
   "metadata": {},
   "outputs": [],
   "source": [
    "\n",
    "from sentence_transformers import SentenceTransformer\n",
    " \n",
    "model = SentenceTransformer('sentence-transformers/paraphrase-multilingual-MiniLM-L12-v2')\n",
    "model.save('./tokenizer_multilingual')\n",
    "Colored"
   ]
  }
 ],
 "metadata": {
  "kernelspec": {
   "display_name": "Deep",
   "language": "python",
   "name": "pdeep"
  },
  "language_info": {
   "codemirror_mode": {
    "name": "ipython",
    "version": 3
   },
   "file_extension": ".py",
   "mimetype": "text/x-python",
   "name": "python",
   "nbconvert_exporter": "python",
   "pygments_lexer": "ipython3",
   "version": "3.8.20"
  }
 },
 "nbformat": 4,
 "nbformat_minor": 5
}
