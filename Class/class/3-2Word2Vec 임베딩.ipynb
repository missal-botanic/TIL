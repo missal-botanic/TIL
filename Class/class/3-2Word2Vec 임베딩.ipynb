{
 "cells": [
  {
   "cell_type": "code",
   "execution_count": 17,
   "id": "af51522b-30eb-46d3-8e39-8e14279471c4",
   "metadata": {},
   "outputs": [
    {
     "data": {
      "text/plain": [
       "-0.749808669090271"
      ]
     },
     "execution_count": 17,
     "metadata": {},
     "output_type": "execute_result"
    }
   ],
   "source": [
    "from transformers import pipeline\n",
    "\n",
    "from gensim.models import Word2Vec\n",
    "from gensim.utils import simple_preprocess\n",
    "from scipy.spatial.distance import cosine\n",
    "\n",
    "sentences =[\n",
    "    \"The sun set behind the mountains, painting the sky in shades of orange and purple.\"\n",
    "    \"She opened the old book and discovered a hidden letter inside.\",\n",
    "    \"The gentle sound of waves crashing on the shore brought her peace.\",\n",
    "    \"He decided to take a different route home to enjoy the beautiful scenery.\",\n",
    "    \"The garden was filled with colorful flowers, attracting butterflies and bees.\",\n",
    "    ]\n",
    "\n",
    "processed = [simple_preprocess(sentence) for sentence in sentences]\n",
    "\n",
    "model = Word2Vec(sentences = processed, vector_size = 5, window = 5, min_count = 1, sg = 0)\n",
    "dog = model.wv['home']\n",
    "cat = model.wv['bees']\n",
    "\n",
    "sim = 1 - cosine(dog, cat)\n",
    "sim"
   ]
  },
  {
   "cell_type": "code",
   "execution_count": 14,
   "id": "0b08a72a-0926-41aa-b094-295340ca6af7",
   "metadata": {},
   "outputs": [
    {
     "data": {
      "text/plain": [
       "[['the',\n",
       "  'sun',\n",
       "  'set',\n",
       "  'behind',\n",
       "  'the',\n",
       "  'mountains',\n",
       "  'painting',\n",
       "  'the',\n",
       "  'sky',\n",
       "  'in',\n",
       "  'shades',\n",
       "  'of',\n",
       "  'orange',\n",
       "  'and',\n",
       "  'purple',\n",
       "  'she',\n",
       "  'opened',\n",
       "  'the',\n",
       "  'old',\n",
       "  'book',\n",
       "  'and',\n",
       "  'discovered',\n",
       "  'hidden',\n",
       "  'letter',\n",
       "  'inside'],\n",
       " ['the',\n",
       "  'gentle',\n",
       "  'sound',\n",
       "  'of',\n",
       "  'waves',\n",
       "  'crashing',\n",
       "  'on',\n",
       "  'the',\n",
       "  'shore',\n",
       "  'brought',\n",
       "  'her',\n",
       "  'peace'],\n",
       " ['he',\n",
       "  'decided',\n",
       "  'to',\n",
       "  'take',\n",
       "  'different',\n",
       "  'route',\n",
       "  'home',\n",
       "  'to',\n",
       "  'enjoy',\n",
       "  'the',\n",
       "  'beautiful',\n",
       "  'scenery'],\n",
       " ['the',\n",
       "  'garden',\n",
       "  'was',\n",
       "  'filled',\n",
       "  'with',\n",
       "  'colorful',\n",
       "  'flowers',\n",
       "  'attracting',\n",
       "  'butterflies',\n",
       "  'and',\n",
       "  'bees']]"
      ]
     },
     "execution_count": 14,
     "metadata": {},
     "output_type": "execute_result"
    }
   ],
   "source": [
    "processed "
   ]
  },
  {
   "cell_type": "code",
   "execution_count": null,
   "id": "d277475b-a3b9-4b9d-97db-51940d42f1ec",
   "metadata": {},
   "outputs": [],
   "source": []
  }
 ],
 "metadata": {
  "kernelspec": {
   "display_name": "Deep",
   "language": "python",
   "name": "pdeep"
  },
  "language_info": {
   "codemirror_mode": {
    "name": "ipython",
    "version": 3
   },
   "file_extension": ".py",
   "mimetype": "text/x-python",
   "name": "python",
   "nbconvert_exporter": "python",
   "pygments_lexer": "ipython3",
   "version": "3.8.20"
  }
 },
 "nbformat": 4,
 "nbformat_minor": 5
}
