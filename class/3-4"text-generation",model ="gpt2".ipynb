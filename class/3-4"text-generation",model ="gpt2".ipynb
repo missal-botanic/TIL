{
 "cells": [
  {
   "cell_type": "code",
   "execution_count": 27,
   "id": "8f610b6e-c306-4aeb-973b-3d43332bd5e9",
   "metadata": {
    "scrolled": true
   },
   "outputs": [
    {
     "name": "stderr",
     "output_type": "stream",
     "text": [
      "Setting `pad_token_id` to `eos_token_id`:None for open-end generation.\n"
     ]
    },
    {
     "data": {
      "text/plain": [
       "[{'generated_text': 'I have a dog who has a special need to hear this stuff and was a little hesitant to try it out but I found it really cute and I\\'m all about making fun of others who try out new things to make cute dogs,\" she writes.\\n\\nSo what are some of the best things you can put up in your dog\\'s cage?\\n\\n\\nSneaky Dogs \"You don\\'t have to be cute to be good at this. All of our dogs are so healthy these days. They\\'ve gotten more energetic and will take more breaks than I ever expected to. These puppies won\\'t stop when they leave their crates. You really don\\'t want a bunch of fluffy white coats all around you,\" she says.\\n\\nAs adorable'},\n",
       " {'generated_text': \"I have a dog\\n\\nAnd I love him\\n\\nThat he knows\\n\\nGood love\\n\\n\\nWe must go home\\n\\nSo get ready to kiss again\\n\\nand do it again\\n\\nWe must always be ready sometimes\\n\\nwhen your back is turned\\n\\nto your mother\\n\\nWe must love you\\n\\nLove you to the extent you love me\\n\\nWhen I get naked\\n\\nAnd I want to kiss you\\n\\nand kiss you back again, that's it\\n\\nDon't you love me a little more than I do\\n\\nJust because I don't\\n\\nMy family lives\\n\\nAnd my name is my own\\n\\nDo not know him\\n\\nLove me like you love him\\n\\nLove\"}]"
      ]
     },
     "execution_count": 27,
     "metadata": {},
     "output_type": "execute_result"
    }
   ],
   "source": [
    "import warnings\n",
    "from transformers import pipeline\n",
    "generator = pipeline(\"text-generation\",model =\"gpt2\")\n",
    "result = generator(\"I have a dog\", max_length=50, num_return_sequences=2, truncation=True) # max_length 문장 길이 num_return_sequences=2,문장 갯수\n",
    "result"
   ]
  },
  {
   "cell_type": "code",
   "execution_count": 19,
   "id": "c0a2b852-8bb1-478f-9388-4a27108bf76a",
   "metadata": {},
   "outputs": [],
   "source": []
  },
  {
   "cell_type": "code",
   "execution_count": 18,
   "id": "3418f7e5-ce66-4861-ab69-dd15d68b9e80",
   "metadata": {},
   "outputs": [
    {
     "name": "stderr",
     "output_type": "stream",
     "text": [
      "Setting `pad_token_id` to `eos_token_id`:None for open-end generation.\n"
     ]
    }
   ],
   "source": []
  },
  {
   "cell_type": "code",
   "execution_count": null,
   "id": "f8a6ecbd-3274-40c3-bde9-d21b68e87f21",
   "metadata": {},
   "outputs": [],
   "source": []
  }
 ],
 "metadata": {
  "kernelspec": {
   "display_name": "Deep",
   "language": "python",
   "name": "pdeep"
  },
  "language_info": {
   "codemirror_mode": {
    "name": "ipython",
    "version": 3
   },
   "file_extension": ".py",
   "mimetype": "text/x-python",
   "name": "python",
   "nbconvert_exporter": "python",
   "pygments_lexer": "ipython3",
   "version": "3.8.20"
  }
 },
 "nbformat": 4,
 "nbformat_minor": 5
}
