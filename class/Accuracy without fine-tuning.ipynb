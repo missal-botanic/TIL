{
 "cells": [
  {
   "cell_type": "code",
   "execution_count": 7,
   "id": "5fb207e4-e900-4050-b1fc-097961c72856",
   "metadata": {},
   "outputs": [],
   "source": [
    "from transformers import BertTokenizer, BertForSequenceClassification\n",
    "from datasets import load_dataset\n",
    "import torch\n",
    "import numpy as np\n",
    "from sklearn.metrics import accuracy_score"
   ]
  },
  {
   "cell_type": "code",
   "execution_count": 17,
   "id": "98d9fcea-4225-4cf1-92cf-54e16bc2c105",
   "metadata": {},
   "outputs": [],
   "source": [
    "test_dataset = dataset[\"test\"].shuffle(seed=42).select(range(500))\n",
    "tokenizer = BertTokenizer.from_pretrained(\"bert-base-uncased\")\n",
    "def tokenize_function(examples):\n",
    "    return tokenizer(examples[\"text\"], padding=\"max_length\", truncation=True)\n",
    "\n",
    "test_dataset = test_dataset.map(tokenize_function, batched=True)\n",
    "\n",
    "test_dataset.set_format(type=\"torch\", columns=['input_ids', 'attention_mask', 'label'])"
   ]
  },
  {
   "cell_type": "code",
   "execution_count": 21,
   "id": "7006d35b-ed4f-41dc-848f-d9fbf4f2d0a7",
   "metadata": {},
   "outputs": [
    {
     "name": "stderr",
     "output_type": "stream",
     "text": [
      "Some weights of BertForSequenceClassification were not initialized from the model checkpoint at bert-base-uncased and are newly initialized: ['classifier.bias', 'classifier.weight']\n",
      "You should probably TRAIN this model on a down-stream task to be able to use it for predictions and inference.\n"
     ]
    },
    {
     "name": "stdout",
     "output_type": "stream",
     "text": [
      "Accuracy without fine-tuning: 0.5080\n"
     ]
    }
   ],
   "source": [
    "model = BertForSequenceClassification.from_pretrained('bert-base-uncased', num_labels=2)\n",
    "model.eval()\n",
    "all_preds = []\n",
    "all_labels = []\n",
    "\n",
    "for batch in torch.utils.data.DataLoader(test_dataset, batch_size=8):\n",
    "    with torch.no_grad():\n",
    "        # attention_mask 인자를 올바르게 전달\n",
    "        output = model(input_ids=batch['input_ids'], attention_mask=batch['attention_mask'])\n",
    "    \n",
    "    logits = output.logits\n",
    "    preds = np.argmax(logits.numpy(), axis=1)\n",
    "    \n",
    "    # 라벨을 numpy 배열로 변환\n",
    "    all_preds.extend(preds)\n",
    "    all_labels.extend(batch['label'].numpy())\n",
    "\n",
    "# 정확도 계산\n",
    "accuracy = accuracy_score(all_labels, all_preds)\n",
    "print(f\"Accuracy without fine-tuning: {accuracy:.4f}\")"
   ]
  },
  {
   "cell_type": "code",
   "execution_count": null,
   "id": "c8c2f1c7-1bd5-42e4-8721-f1bc7f490f58",
   "metadata": {},
   "outputs": [],
   "source": []
  }
 ],
 "metadata": {
  "kernelspec": {
   "display_name": "Deep",
   "language": "python",
   "name": "pdeep"
  },
  "language_info": {
   "codemirror_mode": {
    "name": "ipython",
    "version": 3
   },
   "file_extension": ".py",
   "mimetype": "text/x-python",
   "name": "python",
   "nbconvert_exporter": "python",
   "pygments_lexer": "ipython3",
   "version": "3.8.20"
  }
 },
 "nbformat": 4,
 "nbformat_minor": 5
}
